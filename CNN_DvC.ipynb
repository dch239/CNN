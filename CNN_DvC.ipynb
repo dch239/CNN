{
  "nbformat": 4,
  "nbformat_minor": 0,
  "metadata": {
    "colab": {
      "name": "CNN_DvC.ipynb",
      "provenance": [],
      "collapsed_sections": [],
      "mount_file_id": "1nurCMVD5beqb2ZJe8Jhj61vBD5fRrk_S",
      "authorship_tag": "ABX9TyPFd+cLowTXTfRjp3WOcF56",
      "include_colab_link": true
    },
    "kernelspec": {
      "name": "python3",
      "display_name": "Python 3"
    },
    "language_info": {
      "name": "python"
    },
    "accelerator": "TPU"
  },
  "cells": [
    {
      "cell_type": "markdown",
      "metadata": {
        "id": "view-in-github",
        "colab_type": "text"
      },
      "source": [
        "<a href=\"https://colab.research.google.com/github/dch239/CNN/blob/main/CNN_DvC.ipynb\" target=\"_parent\"><img src=\"https://colab.research.google.com/assets/colab-badge.svg\" alt=\"Open In Colab\"/></a>"
      ]
    },
    {
      "cell_type": "code",
      "metadata": {
        "colab": {
          "base_uri": "https://localhost:8080/"
        },
        "id": "xUc2upDCT3Jb",
        "outputId": "293e7fa7-ac74-4eae-bfb1-db140c00e96b"
      },
      "source": [
        "ls"
      ],
      "execution_count": 1,
      "outputs": [
        {
          "output_type": "stream",
          "text": [
            "\u001b[0m\u001b[01;34mdrive\u001b[0m/  \u001b[01;34msample_data\u001b[0m/\n"
          ],
          "name": "stdout"
        }
      ]
    },
    {
      "cell_type": "code",
      "metadata": {
        "id": "rH7dIyVxT_Sp",
        "colab": {
          "base_uri": "https://localhost:8080/"
        },
        "outputId": "24e520da-38ed-49ee-dde3-feced21cc600"
      },
      "source": [
        "cd drive/MyDrive/Dataset"
      ],
      "execution_count": 2,
      "outputs": [
        {
          "output_type": "stream",
          "text": [
            "/content/drive/.shortcut-targets-by-id/1g_5t1ZVpoTFVhYRqOnjnQpELy7w6tKmh/dataset\n"
          ],
          "name": "stdout"
        }
      ]
    },
    {
      "cell_type": "code",
      "metadata": {
        "id": "cB9eU_heVJnx"
      },
      "source": [
        "import os\n",
        "base_dir = 'drive/MyDrive/Dataset'\n",
        "train_dir = os.path.join('training_set')\n",
        "validation_dir = os.path.join('test_set')"
      ],
      "execution_count": 3,
      "outputs": []
    },
    {
      "cell_type": "code",
      "metadata": {
        "id": "scPZGu3YWF-o"
      },
      "source": [
        "from keras.models import Sequential\n",
        "from keras.layers import Convolution2D\n",
        "from keras.layers import MaxPool2D\n",
        "from keras.layers import Flatten\n",
        "from keras.layers import Dense"
      ],
      "execution_count": 4,
      "outputs": []
    },
    {
      "cell_type": "code",
      "metadata": {
        "id": "58EatuxvWRhm"
      },
      "source": [
        "classifier = Sequential()"
      ],
      "execution_count": 5,
      "outputs": []
    },
    {
      "cell_type": "code",
      "metadata": {
        "id": "k3ypSnHUWcwe"
      },
      "source": [
        "classifier.add(Convolution2D(\n",
        "    filters=32,\n",
        "    kernel_size=(3,3),\n",
        "    input_shape = [64,64,3],\n",
        "    activation = 'relu',\n",
        "    padding = 'same'\n",
        "    )\n",
        ")"
      ],
      "execution_count": 6,
      "outputs": []
    },
    {
      "cell_type": "code",
      "metadata": {
        "id": "LJWeCVh8We_v"
      },
      "source": [
        " classifier.add(\n",
        "     MaxPool2D(\n",
        "         pool_size = (2,2),\n",
        "         strides = 2,\n",
        "     )\n",
        " )"
      ],
      "execution_count": 7,
      "outputs": []
    },
    {
      "cell_type": "code",
      "metadata": {
        "id": "Rcm8FNp2Wg9-"
      },
      "source": [
        "classifier.add(\n",
        "    Flatten()\n",
        ")"
      ],
      "execution_count": 8,
      "outputs": []
    },
    {
      "cell_type": "code",
      "metadata": {
        "id": "VyfwpPHJWiWM"
      },
      "source": [
        "classifier.add(\n",
        "    Dense(\n",
        "        128,\n",
        "        activation = 'relu'\n",
        "    )\n",
        ")"
      ],
      "execution_count": 9,
      "outputs": []
    },
    {
      "cell_type": "code",
      "metadata": {
        "id": "Ddm7EP-zWjrD"
      },
      "source": [
        "classifier.add(\n",
        "    Dense(\n",
        "        1,\n",
        "        activation = 'sigmoid'\n",
        "    )\n",
        ")"
      ],
      "execution_count": 10,
      "outputs": []
    },
    {
      "cell_type": "code",
      "metadata": {
        "id": "A1ph-5YAWlqd"
      },
      "source": [
        "classifier.compile(\n",
        "    optimizer = 'adam',\n",
        "    loss = 'binary_crossentropy',\n",
        "    metrics = ['accuracy']\n",
        ")"
      ],
      "execution_count": 11,
      "outputs": []
    },
    {
      "cell_type": "code",
      "metadata": {
        "id": "0jkqlzS9WrEy"
      },
      "source": [
        "from keras.preprocessing.image import ImageDataGenerator\n",
        "\n",
        "train_datagen = ImageDataGenerator(\n",
        "        rescale=1./255,\n",
        "        shear_range=0.2,\n",
        "        zoom_range=0.2,\n",
        "        horizontal_flip=True)"
      ],
      "execution_count": 12,
      "outputs": []
    },
    {
      "cell_type": "code",
      "metadata": {
        "id": "2jWKwcJmWuQ5"
      },
      "source": [
        "test_datagen = ImageDataGenerator(rescale=1./255)"
      ],
      "execution_count": 13,
      "outputs": []
    },
    {
      "cell_type": "code",
      "metadata": {
        "colab": {
          "base_uri": "https://localhost:8080/"
        },
        "id": "9HbAf3WKWwT_",
        "outputId": "9482e3f8-4c04-4496-d908-e85581cd7bc8"
      },
      "source": [
        "train_generator = train_datagen.flow_from_directory(\n",
        "        train_dir,\n",
        "        target_size=(64,64),\n",
        "        batch_size=20,\n",
        "        class_mode='binary')"
      ],
      "execution_count": 14,
      "outputs": [
        {
          "output_type": "stream",
          "text": [
            "Found 8000 images belonging to 2 classes.\n"
          ],
          "name": "stdout"
        }
      ]
    },
    {
      "cell_type": "code",
      "metadata": {
        "colab": {
          "base_uri": "https://localhost:8080/"
        },
        "id": "BNvv3WFwXODn",
        "outputId": "51da6405-c03d-47ca-aea7-cc5aab92bb44"
      },
      "source": [
        "validation_generator = test_datagen.flow_from_directory(\n",
        "        validation_dir,\n",
        "        target_size=(64,64),\n",
        "        batch_size=20,\n",
        "        class_mode='binary')"
      ],
      "execution_count": 15,
      "outputs": [
        {
          "output_type": "stream",
          "text": [
            "Found 2000 images belonging to 2 classes.\n"
          ],
          "name": "stdout"
        }
      ]
    },
    {
      "cell_type": "code",
      "metadata": {
        "colab": {
          "base_uri": "https://localhost:8080/"
        },
        "id": "KKoWCL7LXpDX",
        "outputId": "147f7f73-38b3-4181-c606-c313a3984725"
      },
      "source": [
        "classifier.fit(\n",
        "        train_generator,\n",
        "        steps_per_epoch=400,\n",
        "        epochs=20,\n",
        "        validation_data=validation_generator,\n",
        "        validation_steps=100)"
      ],
      "execution_count": null,
      "outputs": [
        {
          "output_type": "stream",
          "text": [
            "Epoch 1/20\n",
            "303/400 [=====================>........] - ETA: 5:45 - loss: 0.9249 - accuracy: 0.5114"
          ],
          "name": "stdout"
        }
      ]
    },
    {
      "cell_type": "code",
      "metadata": {
        "id": "evU2zqksX5J9"
      },
      "source": [
        ""
      ],
      "execution_count": null,
      "outputs": []
    }
  ]
}